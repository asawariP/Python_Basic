{
  "nbformat": 4,
  "nbformat_minor": 0,
  "metadata": {
    "colab": {
      "provenance": [],
      "authorship_tag": "ABX9TyM844rG9WGRJVaqNvSujLWe",
      "include_colab_link": true
    },
    "kernelspec": {
      "name": "python3",
      "display_name": "Python 3"
    },
    "language_info": {
      "name": "python"
    }
  },
  "cells": [
    {
      "cell_type": "markdown",
      "metadata": {
        "id": "view-in-github",
        "colab_type": "text"
      },
      "source": [
        "<a href=\"https://colab.research.google.com/github/asawariP/Python_Basic/blob/main/Python.ipynb\" target=\"_parent\"><img src=\"https://colab.research.google.com/assets/colab-badge.svg\" alt=\"Open In Colab\"/></a>"
      ]
    },
    {
      "cell_type": "markdown",
      "source": [
        "# Loop in python"
      ],
      "metadata": {
        "id": "9Cw-wP9uwZTF"
      }
    },
    {
      "cell_type": "code",
      "source": [
        "val=input(\"enter the number\")\n",
        "value = float(val)\n",
        "if(value>100):\n",
        "  print(\"the number is greater than 100\")\n",
        "else:\n",
        "   print(\"The number is less than 100\")"
      ],
      "metadata": {
        "colab": {
          "base_uri": "https://localhost:8080/"
        },
        "id": "E1hmmsb6u39I",
        "outputId": "178ef8f6-c2e7-49ca-a5d8-a0464c62e4b0"
      },
      "execution_count": null,
      "outputs": [
        {
          "output_type": "stream",
          "name": "stdout",
          "text": [
            "enter the number93\n",
            "The number is less than 100\n"
          ]
        }
      ]
    },
    {
      "cell_type": "code",
      "source": [
        "10%2==0"
      ],
      "metadata": {
        "colab": {
          "base_uri": "https://localhost:8080/"
        },
        "id": "z8nISOsvu3_j",
        "outputId": "ad5ac9da-017f-452b-ed48-c97c1ca251ad"
      },
      "execution_count": null,
      "outputs": [
        {
          "output_type": "execute_result",
          "data": {
            "text/plain": [
              "True"
            ]
          },
          "metadata": {},
          "execution_count": 11
        }
      ]
    },
    {
      "cell_type": "markdown",
      "source": [
        "#Age form"
      ],
      "metadata": {
        "id": "XOLeQpTBwTtS"
      }
    },
    {
      "cell_type": "code",
      "source": [
        "#nested if\n",
        "age =float(input(\"enter the age\"))\n",
        "if(age>18):\n",
        "  print(\"minor age\")\n",
        "elif(age>=18 and age<=35):\n",
        "  print(\"mid age\")\n",
        "elif(age>36 and age<=45):\n",
        "  print(\"senior mid\")\n",
        "else:\n",
        "  print(\"senior\")\n"
      ],
      "metadata": {
        "colab": {
          "base_uri": "https://localhost:8080/"
        },
        "id": "1xOUbSpwu4EB",
        "outputId": "cd86e3fc-0292-480d-c6f3-f38b0a42e90e"
      },
      "execution_count": null,
      "outputs": [
        {
          "output_type": "stream",
          "name": "stdout",
          "text": [
            "enter the age23\n",
            "minor age\n"
          ]
        }
      ]
    },
    {
      "cell_type": "markdown",
      "source": [
        "#  for loop"
      ],
      "metadata": {
        "id": "iyMITgIM1AVd"
      }
    },
    {
      "cell_type": "code",
      "source": [
        "List=[1,2,3,4,5,6]\n",
        "for i in List:\n",
        "  print(i)"
      ],
      "metadata": {
        "colab": {
          "base_uri": "https://localhost:8080/"
        },
        "id": "o-D314W8u4Hg",
        "outputId": "f3c585f0-b47d-4e02-edc8-ca87f9d7bcff"
      },
      "execution_count": null,
      "outputs": [
        {
          "output_type": "stream",
          "name": "stdout",
          "text": [
            "1\n",
            "2\n",
            "3\n",
            "4\n",
            "5\n",
            "6\n"
          ]
        }
      ]
    },
    {
      "cell_type": "code",
      "source": [
        "##find the sum of element\n",
        "List=[1,2,3,4,5,6]\n",
        "sum1=0\n",
        "for i in List:\n",
        "  sum1 =sum1+i\n",
        "\n",
        "print(sum1)\n",
        "\n"
      ],
      "metadata": {
        "colab": {
          "base_uri": "https://localhost:8080/"
        },
        "id": "Vx4ptdwA1cd-",
        "outputId": "daf1c9ab-da17-42fb-afab-f275c74ab9ee"
      },
      "execution_count": null,
      "outputs": [
        {
          "output_type": "stream",
          "name": "stdout",
          "text": [
            "21\n"
          ]
        }
      ]
    },
    {
      "cell_type": "code",
      "source": [
        "##find the sum of odd no and even no\n",
        "List=[1,2,3,4,5,6]\n",
        "odd_sum1=0\n",
        "even_sum1=0\n",
        "for i in List:\n",
        "  if(i%2==0):\n",
        "   even_sum1=even_sum1+i\n",
        "  else:\n",
        "    odd_sum1=odd_sum1+i\n",
        "\n",
        "print(\"The sum of even no {}\".format(even_sum1))\n",
        "print(\"The sum of odd no {}\".format(odd_sum1))\n",
        "\n",
        "\n"
      ],
      "metadata": {
        "colab": {
          "base_uri": "https://localhost:8080/"
        },
        "id": "lrSTkqLq1cgW",
        "outputId": "5e328b1f-edc0-4dc9-8a46-544e867da4a1"
      },
      "execution_count": null,
      "outputs": [
        {
          "output_type": "stream",
          "name": "stdout",
          "text": [
            "The sum of even no 12\n",
            "The sum of odd no 9\n"
          ]
        }
      ]
    },
    {
      "cell_type": "code",
      "source": [
        "##while loop\n",
        "i=0\n",
        "while(i<=10):\n",
        "  print(i)\n",
        "  i=i+1"
      ],
      "metadata": {
        "colab": {
          "base_uri": "https://localhost:8080/"
        },
        "id": "4Hvm1LAZ1cjk",
        "outputId": "b4a24f5c-eba7-4bc4-dbfe-be337fd401e2"
      },
      "execution_count": null,
      "outputs": [
        {
          "output_type": "stream",
          "name": "stdout",
          "text": [
            "0\n",
            "1\n",
            "2\n",
            "3\n",
            "4\n",
            "5\n",
            "6\n",
            "7\n",
            "8\n",
            "9\n",
            "10\n"
          ]
        }
      ]
    },
    {
      "cell_type": "code",
      "source": [
        "i=0\n",
        "even_sum1=0\n",
        "odd_sum1=0\n",
        "while(i<=10):\n",
        "    if(i%2==0):\n",
        "       even_sum1=even_sum1+i\n",
        "    else:\n",
        "        odd_sum1=odd_sum1+i\n",
        "\n",
        "\n",
        "    i=i+1\n",
        "print(even_sum1,odd_sum1)"
      ],
      "metadata": {
        "id": "5r_SjyAA1clc",
        "colab": {
          "base_uri": "https://localhost:8080/"
        },
        "outputId": "6ab13bdd-4447-41f6-d9ca-beb30b5e602a"
      },
      "execution_count": null,
      "outputs": [
        {
          "output_type": "stream",
          "name": "stdout",
          "text": [
            "30 25\n"
          ]
        }
      ]
    },
    {
      "cell_type": "markdown",
      "source": [
        "#Python Number Method"
      ],
      "metadata": {
        "id": "WyMtiRV4Gald"
      }
    },
    {
      "cell_type": "markdown",
      "source": [
        "##1.absoulte Method"
      ],
      "metadata": {
        "id": "r5EMQ5R5HISR"
      }
    },
    {
      "cell_type": "code",
      "source": [
        "\n",
        "abs(-10)\n"
      ],
      "metadata": {
        "id": "36KCKi-r1cna",
        "colab": {
          "base_uri": "https://localhost:8080/"
        },
        "outputId": "1e43382f-bf35-4456-e1bd-ec54d92727d1"
      },
      "execution_count": 4,
      "outputs": [
        {
          "output_type": "execute_result",
          "data": {
            "text/plain": [
              "10"
            ]
          },
          "metadata": {},
          "execution_count": 4
        }
      ]
    },
    {
      "cell_type": "code",
      "source": [
        "abs(-24.38)"
      ],
      "metadata": {
        "colab": {
          "base_uri": "https://localhost:8080/"
        },
        "id": "sgtY18s5Gwx6",
        "outputId": "488a50ad-ffad-4460-9b2b-e4ac54d2dd62"
      },
      "execution_count": 3,
      "outputs": [
        {
          "output_type": "execute_result",
          "data": {
            "text/plain": [
              "24.38"
            ]
          },
          "metadata": {},
          "execution_count": 3
        }
      ]
    },
    {
      "cell_type": "markdown",
      "source": [
        "##ceil method :it gives an upper value"
      ],
      "metadata": {
        "id": "7Jz3v2XMHCV7"
      }
    },
    {
      "cell_type": "code",
      "source": [
        "import math\n",
        "math.ceil(46.78)"
      ],
      "metadata": {
        "colab": {
          "base_uri": "https://localhost:8080/"
        },
        "id": "_bBi8pnZGw0U",
        "outputId": "9f08fb68-30a4-49ae-b0e1-9fb16e99d2ed"
      },
      "execution_count": 6,
      "outputs": [
        {
          "output_type": "execute_result",
          "data": {
            "text/plain": [
              "47"
            ]
          },
          "metadata": {},
          "execution_count": 6
        }
      ]
    },
    {
      "cell_type": "code",
      "source": [
        "math.ceil(-44.1)"
      ],
      "metadata": {
        "colab": {
          "base_uri": "https://localhost:8080/"
        },
        "id": "MN-8R1KrGw2g",
        "outputId": "566db9d0-3d70-42e3-d35c-259f93e9b4ee"
      },
      "execution_count": 7,
      "outputs": [
        {
          "output_type": "execute_result",
          "data": {
            "text/plain": [
              "-44"
            ]
          },
          "metadata": {},
          "execution_count": 7
        }
      ]
    },
    {
      "cell_type": "markdown",
      "source": [
        "## floor"
      ],
      "metadata": {
        "id": "_5b9OlGrIQTZ"
      }
    },
    {
      "cell_type": "code",
      "source": [
        "math.floor(44.1)\n"
      ],
      "metadata": {
        "colab": {
          "base_uri": "https://localhost:8080/"
        },
        "id": "o7HYYlRrGw4q",
        "outputId": "73926731-d31f-479e-b32f-a7053ca9ee5d"
      },
      "execution_count": 8,
      "outputs": [
        {
          "output_type": "execute_result",
          "data": {
            "text/plain": [
              "44"
            ]
          },
          "metadata": {},
          "execution_count": 8
        }
      ]
    },
    {
      "cell_type": "code",
      "source": [
        "math.floor(-57.1)"
      ],
      "metadata": {
        "colab": {
          "base_uri": "https://localhost:8080/"
        },
        "id": "0blWu-g6Gw62",
        "outputId": "10f4152f-3bf4-4ab6-a717-84213f078a24"
      },
      "execution_count": 9,
      "outputs": [
        {
          "output_type": "execute_result",
          "data": {
            "text/plain": [
              "-58"
            ]
          },
          "metadata": {},
          "execution_count": 9
        }
      ]
    },
    {
      "cell_type": "markdown",
      "source": [
        "## exp():it will take the expontial power of passing argument"
      ],
      "metadata": {
        "id": "_FilRFGWI8eB"
      }
    },
    {
      "cell_type": "code",
      "source": [
        "math.exp(10)"
      ],
      "metadata": {
        "colab": {
          "base_uri": "https://localhost:8080/"
        },
        "id": "WB8r16fhJHqw",
        "outputId": "80f934c8-5915-44e3-c7b3-d4a59519ab23"
      },
      "execution_count": 10,
      "outputs": [
        {
          "output_type": "execute_result",
          "data": {
            "text/plain": [
              "22026.465794806718"
            ]
          },
          "metadata": {},
          "execution_count": 10
        }
      ]
    },
    {
      "cell_type": "markdown",
      "source": [
        "##log(x)"
      ],
      "metadata": {
        "id": "TLi3JEnpJua6"
      }
    },
    {
      "cell_type": "code",
      "source": [
        "math.log(20)"
      ],
      "metadata": {
        "colab": {
          "base_uri": "https://localhost:8080/"
        },
        "id": "Zkr-J48_JHso",
        "outputId": "caee509c-0b00-4dc8-b5cf-c62aecf442c5"
      },
      "execution_count": 11,
      "outputs": [
        {
          "output_type": "execute_result",
          "data": {
            "text/plain": [
              "2.995732273553991"
            ]
          },
          "metadata": {},
          "execution_count": 11
        }
      ]
    },
    {
      "cell_type": "markdown",
      "source": [
        "## min(),maz(),pow(),sqrt(),Trignometric function\n",
        "\n",
        "> Indented block\n",
        "\n"
      ],
      "metadata": {
        "id": "-gPjRFMoKFCB"
      }
    },
    {
      "cell_type": "code",
      "source": [
        "min(1,2,3)"
      ],
      "metadata": {
        "colab": {
          "base_uri": "https://localhost:8080/"
        },
        "id": "ZZ0whumWJHuT",
        "outputId": "e386ab89-4a19-403b-ba71-3ff8fe21bfab"
      },
      "execution_count": 12,
      "outputs": [
        {
          "output_type": "execute_result",
          "data": {
            "text/plain": [
              "1"
            ]
          },
          "metadata": {},
          "execution_count": 12
        }
      ]
    },
    {
      "cell_type": "code",
      "source": [
        "max(100,2,3)"
      ],
      "metadata": {
        "colab": {
          "base_uri": "https://localhost:8080/"
        },
        "id": "I7gGsCWmJHv8",
        "outputId": "64f7dfa3-fdc6-496e-be15-990248abe0f1"
      },
      "execution_count": 13,
      "outputs": [
        {
          "output_type": "execute_result",
          "data": {
            "text/plain": [
              "100"
            ]
          },
          "metadata": {},
          "execution_count": 13
        }
      ]
    },
    {
      "cell_type": "code",
      "source": [
        "math.pow(2,5)"
      ],
      "metadata": {
        "colab": {
          "base_uri": "https://localhost:8080/"
        },
        "id": "iO1-LZ4xJHx-",
        "outputId": "95c40a27-82a4-4886-a496-7e9084e489ed"
      },
      "execution_count": 14,
      "outputs": [
        {
          "output_type": "execute_result",
          "data": {
            "text/plain": [
              "32.0"
            ]
          },
          "metadata": {},
          "execution_count": 14
        }
      ]
    },
    {
      "cell_type": "code",
      "source": [
        "math.sqrt(49)"
      ],
      "metadata": {
        "colab": {
          "base_uri": "https://localhost:8080/"
        },
        "id": "MVIMIxbDKQ3K",
        "outputId": "2d3c63dd-0f8e-489d-b561-36f4dcdee5ed"
      },
      "execution_count": 15,
      "outputs": [
        {
          "output_type": "execute_result",
          "data": {
            "text/plain": [
              "7.0"
            ]
          },
          "metadata": {},
          "execution_count": 15
        }
      ]
    },
    {
      "cell_type": "code",
      "source": [
        "math.sin(0)"
      ],
      "metadata": {
        "colab": {
          "base_uri": "https://localhost:8080/"
        },
        "id": "GVi2ofgyKQ6Q",
        "outputId": "6e284411-0be8-4a5f-cf2a-8baeba6d3f86"
      },
      "execution_count": 16,
      "outputs": [
        {
          "output_type": "execute_result",
          "data": {
            "text/plain": [
              "0.0"
            ]
          },
          "metadata": {},
          "execution_count": 16
        }
      ]
    },
    {
      "cell_type": "markdown",
      "source": [
        "##hypot()"
      ],
      "metadata": {
        "id": "jBmw7BelK4Vh"
      }
    },
    {
      "cell_type": "code",
      "source": [
        "math.hypot(2,3)"
      ],
      "metadata": {
        "colab": {
          "base_uri": "https://localhost:8080/"
        },
        "id": "1rB8oEpMKyg-",
        "outputId": "927541b9-6100-4e84-d9ea-a0732b4d62d5"
      },
      "execution_count": 17,
      "outputs": [
        {
          "output_type": "execute_result",
          "data": {
            "text/plain": [
              "3.605551275463989"
            ]
          },
          "metadata": {},
          "execution_count": 17
        }
      ]
    },
    {
      "cell_type": "code",
      "source": [
        "math.modf(19)"
      ],
      "metadata": {
        "colab": {
          "base_uri": "https://localhost:8080/"
        },
        "id": "pENpJjF4LPIm",
        "outputId": "84f105c1-bdab-4dcc-b606-bf2ccb035b3e"
      },
      "execution_count": 18,
      "outputs": [
        {
          "output_type": "execute_result",
          "data": {
            "text/plain": [
              "(0.0, 19.0)"
            ]
          },
          "metadata": {},
          "execution_count": 18
        }
      ]
    },
    {
      "cell_type": "code",
      "source": [
        "math.modf(12.23)"
      ],
      "metadata": {
        "colab": {
          "base_uri": "https://localhost:8080/"
        },
        "id": "_Bo4lQhkLPKw",
        "outputId": "3c71751b-4047-40bc-b960-ca5fc33d595e"
      },
      "execution_count": 19,
      "outputs": [
        {
          "output_type": "execute_result",
          "data": {
            "text/plain": [
              "(0.23000000000000043, 12.0)"
            ]
          },
          "metadata": {},
          "execution_count": 19
        }
      ]
    },
    {
      "cell_type": "code",
      "source": [],
      "metadata": {
        "id": "TJxG2E3khNEw"
      },
      "execution_count": null,
      "outputs": []
    },
    {
      "cell_type": "markdown",
      "source": [
        "##Prime Num"
      ],
      "metadata": {
        "id": "dZLcRdOZhV--"
      }
    },
    {
      "cell_type": "code",
      "source": [
        "\n",
        "num = int(input(\"Enter the number: \"))\n",
        "\n",
        "if num > 1:\n",
        "# check for factors\n",
        " for i in range(2,num):\n",
        "    if (num % i) == 0:\n",
        "      print(num,\"is not a prime number\")\n",
        "    else:\n",
        "      print(num,\" prime number\")\n",
        "\n",
        "\n",
        "\n"
      ],
      "metadata": {
        "id": "z_tpRVZzLPON"
      },
      "execution_count": null,
      "outputs": []
    },
    {
      "cell_type": "code",
      "source": [],
      "metadata": {
        "id": "oKvArFbLKykc"
      },
      "execution_count": null,
      "outputs": []
    }
  ]
}