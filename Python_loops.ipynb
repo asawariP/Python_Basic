{
  "nbformat": 4,
  "nbformat_minor": 0,
  "metadata": {
    "colab": {
      "provenance": [],
      "authorship_tag": "ABX9TyMnQucEOfM5rRjCHnke8qj/",
      "include_colab_link": true
    },
    "kernelspec": {
      "name": "python3",
      "display_name": "Python 3"
    },
    "language_info": {
      "name": "python"
    }
  },
  "cells": [
    {
      "cell_type": "markdown",
      "metadata": {
        "id": "view-in-github",
        "colab_type": "text"
      },
      "source": [
        "<a href=\"https://colab.research.google.com/github/asawariP/Python_Basic/blob/main/Python_loops.ipynb\" target=\"_parent\"><img src=\"https://colab.research.google.com/assets/colab-badge.svg\" alt=\"Open In Colab\"/></a>"
      ]
    },
    {
      "cell_type": "markdown",
      "source": [
        "# Loop in python"
      ],
      "metadata": {
        "id": "9Cw-wP9uwZTF"
      }
    },
    {
      "cell_type": "code",
      "source": [
        "val=input(\"enter the number\")\n",
        "value = float(val)\n",
        "if(value>100):\n",
        "  print(\"the number is greater than 100\")\n",
        "else:\n",
        "   print(\"The number is less than 100\")"
      ],
      "metadata": {
        "colab": {
          "base_uri": "https://localhost:8080/"
        },
        "id": "E1hmmsb6u39I",
        "outputId": "178ef8f6-c2e7-49ca-a5d8-a0464c62e4b0"
      },
      "execution_count": null,
      "outputs": [
        {
          "output_type": "stream",
          "name": "stdout",
          "text": [
            "enter the number93\n",
            "The number is less than 100\n"
          ]
        }
      ]
    },
    {
      "cell_type": "code",
      "source": [
        "10%2==0"
      ],
      "metadata": {
        "colab": {
          "base_uri": "https://localhost:8080/"
        },
        "id": "z8nISOsvu3_j",
        "outputId": "ad5ac9da-017f-452b-ed48-c97c1ca251ad"
      },
      "execution_count": null,
      "outputs": [
        {
          "output_type": "execute_result",
          "data": {
            "text/plain": [
              "True"
            ]
          },
          "metadata": {},
          "execution_count": 11
        }
      ]
    },
    {
      "cell_type": "markdown",
      "source": [
        "#Age form"
      ],
      "metadata": {
        "id": "XOLeQpTBwTtS"
      }
    },
    {
      "cell_type": "code",
      "source": [
        "#nested if\n",
        "age =float(input(\"enter the age\"))\n",
        "if(age>18):\n",
        "  print(\"minor age\")\n",
        "elif(age>=18 and age<=35):\n",
        "  print(\"mid age\")\n",
        "elif(age>36 and age<=45):\n",
        "  print(\"senior mid\")\n",
        "else:\n",
        "  print(\"senior\")\n"
      ],
      "metadata": {
        "colab": {
          "base_uri": "https://localhost:8080/"
        },
        "id": "1xOUbSpwu4EB",
        "outputId": "cd86e3fc-0292-480d-c6f3-f38b0a42e90e"
      },
      "execution_count": null,
      "outputs": [
        {
          "output_type": "stream",
          "name": "stdout",
          "text": [
            "enter the age23\n",
            "minor age\n"
          ]
        }
      ]
    },
    {
      "cell_type": "markdown",
      "source": [
        "#  for loop"
      ],
      "metadata": {
        "id": "iyMITgIM1AVd"
      }
    },
    {
      "cell_type": "code",
      "source": [
        "List=[1,2,3,4,5,6]\n",
        "for i in List:\n",
        "  print(i)"
      ],
      "metadata": {
        "colab": {
          "base_uri": "https://localhost:8080/"
        },
        "id": "o-D314W8u4Hg",
        "outputId": "f3c585f0-b47d-4e02-edc8-ca87f9d7bcff"
      },
      "execution_count": null,
      "outputs": [
        {
          "output_type": "stream",
          "name": "stdout",
          "text": [
            "1\n",
            "2\n",
            "3\n",
            "4\n",
            "5\n",
            "6\n"
          ]
        }
      ]
    },
    {
      "cell_type": "code",
      "source": [
        "##find the sum of element\n",
        "List=[1,2,3,4,5,6]\n",
        "sum1=0\n",
        "for i in List:\n",
        "  sum1 =sum1+i\n",
        "\n",
        "print(sum1)\n",
        "\n"
      ],
      "metadata": {
        "colab": {
          "base_uri": "https://localhost:8080/"
        },
        "id": "Vx4ptdwA1cd-",
        "outputId": "daf1c9ab-da17-42fb-afab-f275c74ab9ee"
      },
      "execution_count": null,
      "outputs": [
        {
          "output_type": "stream",
          "name": "stdout",
          "text": [
            "21\n"
          ]
        }
      ]
    },
    {
      "cell_type": "code",
      "source": [
        "##find the sum of odd no and even no\n",
        "List=[1,2,3,4,5,6]\n",
        "odd_sum1=0\n",
        "even_sum1=0\n",
        "for i in List:\n",
        "  if(i%2==0):\n",
        "   even_sum1=even_sum1+i\n",
        "  else:\n",
        "    odd_sum1=odd_sum1+i\n",
        "\n",
        "print(\"The sum of even no {}\".format(even_sum1))\n",
        "print(\"The sum of odd no {}\".format(odd_sum1))\n",
        "\n",
        "\n"
      ],
      "metadata": {
        "colab": {
          "base_uri": "https://localhost:8080/"
        },
        "id": "lrSTkqLq1cgW",
        "outputId": "5e328b1f-edc0-4dc9-8a46-544e867da4a1"
      },
      "execution_count": null,
      "outputs": [
        {
          "output_type": "stream",
          "name": "stdout",
          "text": [
            "The sum of even no 12\n",
            "The sum of odd no 9\n"
          ]
        }
      ]
    },
    {
      "cell_type": "code",
      "source": [
        "##while loop\n",
        "i=0\n",
        "while(i<=10):\n",
        "  print(i)\n",
        "  i=i+1"
      ],
      "metadata": {
        "colab": {
          "base_uri": "https://localhost:8080/"
        },
        "id": "4Hvm1LAZ1cjk",
        "outputId": "b4a24f5c-eba7-4bc4-dbfe-be337fd401e2"
      },
      "execution_count": 27,
      "outputs": [
        {
          "output_type": "stream",
          "name": "stdout",
          "text": [
            "0\n",
            "1\n",
            "2\n",
            "3\n",
            "4\n",
            "5\n",
            "6\n",
            "7\n",
            "8\n",
            "9\n",
            "10\n"
          ]
        }
      ]
    },
    {
      "cell_type": "code",
      "source": [
        "i=0\n",
        "even_sum1=0\n",
        "odd_sum1=0\n",
        "while(i<=10):\n",
        "    if(i%2==0):\n",
        "       even_sum1=even_sum1+i\n",
        "    else:\n",
        "        odd_sum1=odd_sum1+i\n",
        "\n",
        "\n",
        "    i=i+1\n",
        "print(even_sum1,odd_sum1)"
      ],
      "metadata": {
        "id": "5r_SjyAA1clc",
        "colab": {
          "base_uri": "https://localhost:8080/"
        },
        "outputId": "6ab13bdd-4447-41f6-d9ca-beb30b5e602a"
      },
      "execution_count": 28,
      "outputs": [
        {
          "output_type": "stream",
          "name": "stdout",
          "text": [
            "30 25\n"
          ]
        }
      ]
    },
    {
      "cell_type": "code",
      "source": [],
      "metadata": {
        "id": "36KCKi-r1cna"
      },
      "execution_count": null,
      "outputs": []
    }
  ]
}